{
 "cells": [
  {
   "cell_type": "code",
   "execution_count": 1,
   "metadata": {},
   "outputs": [
    {
     "name": "stdout",
     "output_type": "stream",
     "text": [
      "Requirement already satisfied: pandas in ./.venv/lib/python3.12/site-packages (2.2.2)\n",
      "Requirement already satisfied: numpy>=1.26.0 in ./.venv/lib/python3.12/site-packages (from pandas) (1.26.4)\n",
      "Requirement already satisfied: python-dateutil>=2.8.2 in ./.venv/lib/python3.12/site-packages (from pandas) (2.9.0.post0)\n",
      "Requirement already satisfied: pytz>=2020.1 in ./.venv/lib/python3.12/site-packages (from pandas) (2024.1)\n",
      "Requirement already satisfied: tzdata>=2022.7 in ./.venv/lib/python3.12/site-packages (from pandas) (2024.1)\n",
      "Requirement already satisfied: six>=1.5 in ./.venv/lib/python3.12/site-packages (from python-dateutil>=2.8.2->pandas) (1.16.0)\n",
      "Note: you may need to restart the kernel to use updated packages.\n"
     ]
    }
   ],
   "source": [
    "pip install pandas"
   ]
  },
  {
   "cell_type": "code",
   "execution_count": 22,
   "metadata": {},
   "outputs": [],
   "source": [
    "import pandas as pd\n",
    "import json\n",
    "prefix= '/Users/stevensu/Desktop/SciSketch-Summer/Processed Data/part-0000'\n",
    "postfix = '-tid-8352517398083398155-998803f5-0bc0-4d20-a3a9-2e1aeb46f54e-37-1-c000.json'\n",
    "\n",
    "# Function to load JSON objects from a file with multiple JSON objects\n",
    "def load_json_objects(filename):\n",
    "    with open(filename, 'r') as file:\n",
    "        data = file.read()\n",
    "        json_objects = [json.loads(line) for line in data.split('\\n') if line]\n",
    "        return pd.DataFrame(json_objects)\n",
    "\n",
    "df = load_json_objects(prefix + '0' + postfix)"
   ]
  },
  {
   "cell_type": "code",
   "execution_count": 23,
   "metadata": {},
   "outputs": [
    {
     "name": "stdout",
     "output_type": "stream",
     "text": [
      "                                   File Name  \\\n",
      "0  ScienceDirect_citations_1715576650652.txt   \n",
      "1  ScienceDirect_citations_1715576650652.txt   \n",
      "2  ScienceDirect_citations_1715576650652.txt   \n",
      "3  ScienceDirect_citations_1715576650652.txt   \n",
      "4  ScienceDirect_citations_1715576650652.txt   \n",
      "\n",
      "                                        DOI_urls  \\\n",
      "0  https://doi.org/10.1016/j.celrep.2024.114035.   \n",
      "1  https://doi.org/10.1016/j.celrep.2024.114059.   \n",
      "2  https://doi.org/10.1016/j.celrep.2024.114070.   \n",
      "3  https://doi.org/10.1016/j.celrep.2024.114091.   \n",
      "4  https://doi.org/10.1016/j.devcel.2024.03.024.   \n",
      "\n",
      "                                            Abstract  \\\n",
      "0  Gustatory receptors (GRs) are critical for ins...   \n",
      "1  Thalamocortical loops have a central role in c...   \n",
      "2  Nucleotide oligomerization domain (NOD)-like r...   \n",
      "3  Nitric oxide (NO) is a gasotransmitter require...   \n",
      "4  Embryogenesis requires substantial coordinatio...   \n",
      "\n",
      "                            DOI  \\\n",
      "0  10.1016/j.celrep.2024.114035   \n",
      "1  10.1016/j.celrep.2024.114059   \n",
      "2  10.1016/j.celrep.2024.114070   \n",
      "3  10.1016/j.celrep.2024.114091   \n",
      "4  10.1016/j.devcel.2024.03.024   \n",
      "\n",
      "                                               Image  \\\n",
      "0  s3a://scisketch-dataset/Graphical-Abstracts/10...   \n",
      "1  s3a://scisketch-dataset/Graphical-Abstracts/10...   \n",
      "2  s3a://scisketch-dataset/Graphical-Abstracts/10...   \n",
      "3  s3a://scisketch-dataset/Graphical-Abstracts/10...   \n",
      "4  s3a://scisketch-dataset/Graphical-Abstracts/10...   \n",
      "\n",
      "                                     processed_image  \n",
      "0  [{'text': 'Bombyx mori Gr9', 'coordinates': [1...  \n",
      "1  [{'text': 'Stimulus', 'coordinates': [404, 2, ...  \n",
      "2  [{'text': 'Priming', 'coordinates': [34, 43, 1...  \n",
      "3  [{'text': 'NITRATION', 'coordinates': [443, 21...  \n",
      "4  [{'text': 'Molecular recording', 'coordinates'...  \n"
     ]
    }
   ],
   "source": [
    "import pandas as pd\n",
    "import json\n",
    "import os\n",
    "\n",
    "# Initialize an empty DataFrame\n",
    "df = pd.DataFrame()\n",
    "\n",
    "# Base path to the folder containing JSON files\n",
    "folder_path = '/Users/stevensu/Desktop/SciSketch-Summer/Processed Data/'\n",
    "\n",
    "# Function to load JSON objects from a file with multiple JSON objects\n",
    "def load_json_objects(filename):\n",
    "    with open(filename, 'r') as file:\n",
    "        data = file.read()\n",
    "        json_objects = [json.loads(line) for line in data.split('\\n') if line]\n",
    "        return pd.DataFrame(json_objects)\n",
    "\n",
    "# Iterate through each file in the folder\n",
    "for filename in os.listdir(folder_path):\n",
    "    if filename.endswith('.json'):  # Check if the file is a JSON file\n",
    "        file_path = os.path.join(folder_path, filename)\n",
    "        try:\n",
    "            # Load the JSON objects from the file and create a DataFrame\n",
    "            df_temp = load_json_objects(file_path)\n",
    "            # Append to the main DataFrame\n",
    "            df = pd.concat([df, df_temp], ignore_index=True)\n",
    "        except ValueError as e:\n",
    "            print(f\"Error reading {file_path}: {e}\")\n",
    "\n",
    "# Save the combined DataFrame to a CSV file\n",
    "output_path = os.path.join(folder_path, 'combined.csv')\n",
    "df.to_csv(output_path, index=False)\n",
    "\n",
    "# Display the combined DataFrame\n",
    "print(df.head())\n"
   ]
  },
  {
   "cell_type": "code",
   "execution_count": null,
   "metadata": {},
   "outputs": [],
   "source": [
    "import pandas as pd\n",
    "\n",
    "# Specify the path to your local JSON file\n",
    "json_file_path = ''\n",
    "\n",
    "# Read the JSON file into a pandas DataFrame\n",
    "df = pd.read_json(json_file_path)\n",
    "\n",
    "# Display the DataFrame\n",
    "print(df.head())\n"
   ]
  },
  {
   "cell_type": "code",
   "execution_count": null,
   "metadata": {},
   "outputs": [],
   "source": [
    "import pandas as pd\n",
    "\n",
    "df = pd.read_csv('/Users/stevensu/Desktop/SciSketch-Summer/Processed Data/combined.csv')\n",
    "\n",
    "df.dropna(inplace=True)\n",
    "df.reset_index(drop=True, inplace=True)\n",
    "\n",
    "df.to_csv('/Users/stevensu/Desktop/SciSketch-Summer/Processed Data/combined_cleaned.csv', index=False)"
   ]
  }
 ],
 "metadata": {
  "kernelspec": {
   "display_name": ".venv",
   "language": "python",
   "name": "python3"
  },
  "language_info": {
   "codemirror_mode": {
    "name": "ipython",
    "version": 3
   },
   "file_extension": ".py",
   "mimetype": "text/x-python",
   "name": "python",
   "nbconvert_exporter": "python",
   "pygments_lexer": "ipython3",
   "version": "3.12.2"
  }
 },
 "nbformat": 4,
 "nbformat_minor": 2
}
